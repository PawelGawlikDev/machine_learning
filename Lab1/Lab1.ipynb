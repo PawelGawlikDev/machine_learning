{
 "cells": [
  {
   "cell_type": "code",
   "execution_count": 1,
   "metadata": {},
   "outputs": [],
   "source": [
    "import matplotlib.pyplot as plt\n",
    "from ucimlrepo import fetch_ucirepo"
   ]
  },
  {
   "cell_type": "code",
   "execution_count": null,
   "metadata": {},
   "outputs": [],
   "source": [
    "# fetch dataset\n",
    "raisin = fetch_ucirepo(id=850)\n",
    "# data (as pandas dataframes)\n",
    "X = raisin.data.features\n",
    "y = raisin.data.targets\n",
    "\n",
    "# Opis klas\n",
    "print(y['Class'].value_counts())\n",
    "\n",
    "# Opis cech\n",
    "X.describe()"
   ]
  },
  {
   "cell_type": "code",
   "execution_count": 12,
   "metadata": {},
   "outputs": [],
   "source": [
    "# Wartości minimalne\n",
    "min_values = X.min()\n",
    "\n",
    "# Wartości maksymalne\n",
    "max_values = X.max()\n",
    "\n",
    "# Średnia\n",
    "mean_values = X.mean()\n",
    "\n",
    "# Mediana\n",
    "median_values = X.median()\n",
    "\n",
    "# Drugi (dolny) kwartyl\n",
    "q2 = X.quantile(0.25)\n",
    "\n",
    "# Trzeci (górny) kwartyl\n",
    "q3 = X.quantile(0.75)\n",
    "\n",
    "# Odchylenie standardowe\n",
    "std_deviation = X.std()\n",
    "\n",
    "# Liczność próbek w zbiorze\n",
    "sample_count = len(X)\n",
    "\n",
    "# Występowanie danych niepełnych\n",
    "missing_data_count = X.isnull().sum()"
   ]
  },
  {
   "cell_type": "code",
   "execution_count": null,
   "metadata": {},
   "outputs": [],
   "source": [
    "# Liczność próbek dla poszczególnych klas (jeśli dane są sklasyfikowane)\n",
    "for column in X.columns:\n",
    "    class_counts = X[column].value_counts()\n",
    "    print(\"\\nLiczność próbek dla poszczególnych klas:\")\n",
    "    print(class_counts)"
   ]
  },
  {
   "cell_type": "code",
   "execution_count": null,
   "metadata": {},
   "outputs": [],
   "source": [
    "# Wyświetlenie wyników\n",
    "print(\"Wartości minimalne:\")\n",
    "print(min_values)\n",
    "print(\"\\nWartości maksymalne:\")\n",
    "print(max_values)\n",
    "print(\"\\nŚrednia:\")\n",
    "print(mean_values)\n",
    "print(\"\\nMediana:\")\n",
    "print(median_values)\n",
    "print(\"\\nDrugi (dolny) kwartyl:\")\n",
    "print(q2)\n",
    "print(\"\\nTrzeci (górny) kwartyl:\")\n",
    "print(q3)\n",
    "print(\"\\nOdchylenie standardowe:\")\n",
    "print(std_deviation)\n",
    "print(\"\\nLiczność próbek w zbiorze:\", sample_count)\n",
    "print(\"\\nWystępowanie danych niepełnych:\")\n",
    "print(missing_data_count)"
   ]
  },
  {
   "cell_type": "code",
   "execution_count": null,
   "metadata": {},
   "outputs": [],
   "source": [
    "# Wykresy dla trzech wybranych zmiennych\n",
    "selected_columns = X.columns\n",
    "\n",
    "for column in selected_columns:\n",
    "    # Wykres pudełkowy\n",
    "    plt.figure(figsize=(8, 6))\n",
    "    X.boxplot(column=column)\n",
    "    plt.title(f'Wykres pudełkowy dla {column}')\n",
    "    plt.show()\n",
    "\n",
    "    # Wykres liniowy\n",
    "    plt.figure(figsize=(8, 6))\n",
    "    plt.plot(X.index, X[column])\n",
    "    plt.title(f'Wykres liniowy dla {column}')\n",
    "    plt.xlabel('Indeks próbki')\n",
    "    plt.ylabel('Wartość')\n",
    "    plt.show()\n",
    "\n",
    "    # Histogram\n",
    "    plt.figure(figsize=(8, 6))\n",
    "    X[column].plot(kind='hist', bins=20)\n",
    "    plt.title(f'Histogram dla {column}')\n",
    "    plt.xlabel('Wartość')\n",
    "    plt.ylabel('Częstotliwość')\n",
    "    plt.show()"
   ]
  }
 ],
 "metadata": {
  "kernelspec": {
   "display_name": ".venv",
   "language": "python",
   "name": "python3"
  },
  "language_info": {
   "codemirror_mode": {
    "name": "ipython",
    "version": 3
   },
   "file_extension": ".py",
   "mimetype": "text/x-python",
   "name": "python",
   "nbconvert_exporter": "python",
   "pygments_lexer": "ipython3",
   "version": "3.12.1"
  }
 },
 "nbformat": 4,
 "nbformat_minor": 2
}
